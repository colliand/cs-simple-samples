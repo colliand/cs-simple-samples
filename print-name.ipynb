{
 "cells": [
  {
   "cell_type": "markdown",
   "id": "74c445aa-e11e-449a-9764-177f654d04f6",
   "metadata": {},
   "source": [
    "Name: Jessica Flectcher  \n",
    "Course: Intro to CS  \n",
    "Date: 2019-09-16"
   ]
  },
  {
   "cell_type": "markdown",
   "id": "b4707aa5-8b23-4833-bbb8-43222b5815dd",
   "metadata": {},
   "source": [
    "## Exercise 2. Write a program that asks the user for their name and greets them with their name. ##"
   ]
  },
  {
   "cell_type": "code",
   "execution_count": 5,
   "id": "98a02e84-8ff0-4594-8325-b946bf46c9cc",
   "metadata": {},
   "outputs": [
    {
     "name": "stdin",
     "output_type": "stream",
     "text": [
      "Enter your name :  Jim\n"
     ]
    },
    {
     "name": "stdout",
     "output_type": "stream",
     "text": [
      "Hello Jim! It's nice to meet you.\n"
     ]
    }
   ],
   "source": [
    "name1 = input(\"Enter your name : \")\n",
    "print(\"Hello \" + name1 + \"! \" + \"It's nice to meet you.\")"
   ]
  },
  {
   "cell_type": "code",
   "execution_count": null,
   "id": "9c2bc26c-fa36-406d-a89d-ae178e8e52a5",
   "metadata": {},
   "outputs": [],
   "source": []
  }
 ],
 "metadata": {
  "kernelspec": {
   "display_name": "Python 3 (ipykernel)",
   "language": "python",
   "name": "python3"
  },
  "language_info": {
   "codemirror_mode": {
    "name": "ipython",
    "version": 3
   },
   "file_extension": ".py",
   "mimetype": "text/x-python",
   "name": "python",
   "nbconvert_exporter": "python",
   "pygments_lexer": "ipython3",
   "version": "3.7.3"
  }
 },
 "nbformat": 4,
 "nbformat_minor": 5
}
