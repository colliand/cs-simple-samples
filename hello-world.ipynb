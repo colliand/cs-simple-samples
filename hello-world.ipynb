{
 "cells": [
  {
   "cell_type": "markdown",
   "id": "cefabde0-ef64-4e94-8aa3-ae810ffb8c1c",
   "metadata": {},
   "source": [
    "Name: Jessica Flectcher  \n",
    "Course: Intro to CS  \n",
    "Date: 2019-09-09"
   ]
  },
  {
   "cell_type": "markdown",
   "id": "4226e632-061b-467f-a22b-73230fe9c170",
   "metadata": {
    "tags": []
   },
   "source": [
    "## Exercise 1. Write a program that prints ‘Hello World’ to the screen. ##"
   ]
  },
  {
   "cell_type": "code",
   "execution_count": 1,
   "id": "38863f6c-1b00-4d7d-82e3-573d28920cc2",
   "metadata": {},
   "outputs": [
    {
     "name": "stdout",
     "output_type": "stream",
     "text": [
      " 'Hello World' \n"
     ]
    }
   ],
   "source": [
    "print(\" 'Hello World' \")"
   ]
  }
 ],
 "metadata": {
  "kernelspec": {
   "display_name": "Python 3 (ipykernel)",
   "language": "python",
   "name": "python3"
  },
  "language_info": {
   "codemirror_mode": {
    "name": "ipython",
    "version": 3
   },
   "file_extension": ".py",
   "mimetype": "text/x-python",
   "name": "python",
   "nbconvert_exporter": "python",
   "pygments_lexer": "ipython3",
   "version": "3.7.3"
  }
 },
 "nbformat": 4,
 "nbformat_minor": 5
}
