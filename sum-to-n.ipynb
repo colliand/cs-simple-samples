{
 "cells": [
  {
   "cell_type": "markdown",
   "id": "339f981c-6756-4cd6-9793-6a3f70fe96ef",
   "metadata": {},
   "source": [
    "Name: Jessica Flectcher  \n",
    "Course: Intro to CS  \n",
    "Date: 2019-09-23"
   ]
  },
  {
   "cell_type": "markdown",
   "id": "7569f395-04d4-41c1-81ed-ae7bef6adb4e",
   "metadata": {},
   "source": [
    "## Exercise 3. Write a program that asks the user for a number n and prints the sum of the numbers 1 to n. ##"
   ]
  },
  {
   "cell_type": "code",
   "execution_count": 24,
   "id": "b6beeadc-4b34-40e9-a388-24fb391ba3c5",
   "metadata": {},
   "outputs": [
    {
     "name": "stdin",
     "output_type": "stream",
     "text": [
      "Enter a number :  1000\n"
     ]
    }
   ],
   "source": [
    "number = int(input(\"Enter a number : \"))"
   ]
  },
  {
   "cell_type": "code",
   "execution_count": 25,
   "id": "3eb5a419-6072-485c-af3c-af602f76cc5d",
   "metadata": {},
   "outputs": [
    {
     "name": "stdout",
     "output_type": "stream",
     "text": [
      "500500\n"
     ]
    }
   ],
   "source": [
    "sum = 0\n",
    "for counter in range(1,number + 1):\n",
    "    sum = sum + counter\n",
    "print(sum)"
   ]
  },
  {
   "cell_type": "code",
   "execution_count": null,
   "id": "7e0a34f6-3a57-4a85-91b3-1fb84e4f950c",
   "metadata": {},
   "outputs": [],
   "source": []
  }
 ],
 "metadata": {
  "kernelspec": {
   "display_name": "Python 3 (ipykernel)",
   "language": "python",
   "name": "python3"
  },
  "language_info": {
   "codemirror_mode": {
    "name": "ipython",
    "version": 3
   },
   "file_extension": ".py",
   "mimetype": "text/x-python",
   "name": "python",
   "nbconvert_exporter": "python",
   "pygments_lexer": "ipython3",
   "version": "3.7.3"
  }
 },
 "nbformat": 4,
 "nbformat_minor": 5
}
